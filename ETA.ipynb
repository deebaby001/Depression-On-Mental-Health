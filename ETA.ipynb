{
 "cells": [
  {
   "cell_type": "markdown",
   "metadata": {},
   "source": [
    "ETA Info"
   ]
  },
  {
   "cell_type": "markdown",
   "metadata": {},
   "source": []
  },
  {
   "cell_type": "code",
   "execution_count": null,
   "metadata": {},
   "outputs": [],
   "source": [
    "import pandas as pd\n",
    "\n",
    "import matplotlib.pyplot as plt\n",
    "import seaborn as sns"
   ]
  },
  {
   "cell_type": "code",
   "execution_count": null,
   "metadata": {},
   "outputs": [],
   "source": [
    "# Load data file from the internet as a pandas dataframe\n",
    "\n",
    "#df = pd.read_csv('C:/Users/deema/Desktop/Weightloss-Drugs/Weightloss-Drugs-and-Their-Impact-on-Diabetes/data/raw/Diabetes/diabetes_012_health_indicators_BRFSS2015.csv')\n",
    "#df = pd.read_csv https://app.gigasheet.com/spreadsheet/train-csv/846100f5_5cbb_4a20_b268_d3ed6d7d3c76\n",
    "\n",
    "\n",
    "# Replace 'your_url' with the actual URL of the CSV file\n",
    "url = 'https://app.gigasheet.com/spreadsheet/train-csv/846100f5_5cbb_4a20_b268_d3ed6d7d3c76'\n",
    "df = pd.read_csv(url)\n",
    "\n",
    "# Display the first few rows of the DataFrame\n",
    "print(df.head())\n"
   ]
  }
 ],
 "metadata": {
  "kernelspec": {
   "display_name": "Python 3",
   "language": "python",
   "name": "python3"
  },
  "language_info": {
   "codemirror_mode": {
    "name": "ipython",
    "version": 3
   },
   "file_extension": ".py",
   "mimetype": "text/x-python",
   "name": "python",
   "nbconvert_exporter": "python",
   "pygments_lexer": "ipython3",
   "version": "3.9.0"
  }
 },
 "nbformat": 4,
 "nbformat_minor": 2
}
